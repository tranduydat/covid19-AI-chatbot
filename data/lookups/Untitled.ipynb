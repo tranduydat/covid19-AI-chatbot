{
 "cells": [
  {
   "cell_type": "code",
   "execution_count": 7,
   "metadata": {},
   "outputs": [],
   "source": [
    "list_provinces = []\n",
    "list_intents = []\n",
    "list_synonyms = []\n",
    "\n",
    "# Save all provinces into list\n",
    "with open('./vietnam_provinces.txt', 'r') as f:\n",
    "    for line in f:\n",
    "        list_provinces.append(line)\n",
    "\n",
    "# print(list_provinces[62])"
   ]
  },
  {
   "cell_type": "code",
   "execution_count": null,
   "metadata": {},
   "outputs": [],
   "source": []
  },
  {
   "cell_type": "code",
   "execution_count": 8,
   "metadata": {},
   "outputs": [
    {
     "name": "stdout",
     "output_type": "stream",
     "text": [
      "Yên Bái\n"
     ]
    }
   ],
   "source": [
    "print(list_provinces[62])"
   ]
  },
  {
   "cell_type": "code",
   "execution_count": 10,
   "metadata": {},
   "outputs": [
    {
     "data": {
      "text/plain": [
       "'ahihi'"
      ]
     },
     "execution_count": 10,
     "metadata": {},
     "output_type": "execute_result"
    }
   ],
   "source": [
    "\"AHIHI\".lower()"
   ]
  },
  {
   "cell_type": "code",
   "execution_count": 22,
   "metadata": {},
   "outputs": [
    {
     "name": "stdout",
     "output_type": "stream",
     "text": [
      "angiang\n",
      "\n"
     ]
    }
   ],
   "source": [
    "accented_string = list_provinces[0]\n",
    "# accented_string is of type 'unicode'\n",
    "import unidecode\n",
    "unaccented_string = unidecode.unidecode(list_provinces[0].replace(' ', '').lower())\n",
    "print(unaccented_string)"
   ]
  },
  {
   "cell_type": "code",
   "execution_count": 12,
   "metadata": {},
   "outputs": [
    {
     "name": "stdout",
     "output_type": "stream",
     "text": [
      "Collecting Unidecode\n",
      "  Downloading Unidecode-1.1.1-py2.py3-none-any.whl (238 kB)\n",
      "\u001b[K     |████████████████████████████████| 238 kB 878 kB/s eta 0:00:01\n",
      "\u001b[?25hInstalling collected packages: Unidecode\n",
      "Successfully installed Unidecode-1.1.1\n"
     ]
    }
   ],
   "source": [
    "!pip install Unidecode"
   ]
  },
  {
   "cell_type": "code",
   "execution_count": 28,
   "metadata": {},
   "outputs": [
    {
     "name": "stdout",
     "output_type": "stream",
     "text": [
      "/home/trdat/Workspaces/covid19-rasa-chatbot/data/lookups\r\n"
     ]
    }
   ],
   "source": [
    "!pwd"
   ]
  },
  {
   "cell_type": "code",
   "execution_count": 17,
   "metadata": {},
   "outputs": [
    {
     "data": {
      "text/plain": [
       "'## synonym:An Giang\\n_synonym\\n- An Giang\\n\\n- An Giang\\n\\n- An Giang\\n\\n- tỉnh An Giang\\n\\n- t.An Giang\\n\\n- thành phố An Giang\\n\\n- tp An Giang\\n'"
      ]
     },
     "execution_count": 17,
     "metadata": {},
     "output_type": "execute_result"
    }
   ],
   "source": [
    "\"## synonym:{}_synonym\\n- {}\\n- {}\\n- {}\\n- tỉnh {}\\n- t.{}\\n- thành phố {}\\n- tp {}\".format(list_provinces[0], list_provinces[0], list_provinces[0], list_provinces[0], list_provinces[0], list_provinces[0], list_provinces[0], list_provinces[0])"
   ]
  },
  {
   "cell_type": "code",
   "execution_count": 21,
   "metadata": {},
   "outputs": [
    {
     "data": {
      "text/plain": [
       "'## synonym:An Giang\\n_synonym\\n- An Giang\\n\\n- An Giang\\n\\n- An Giang\\n\\n- tỉnh An Giang\\n\\n- t.An Giang\\n\\n- thành phố An Giang\\n\\n- tp An Giang\\n'"
      ]
     },
     "execution_count": 21,
     "metadata": {},
     "output_type": "execute_result"
    }
   ],
   "source": [
    "\"## synonym:{}_synonym\\n- {}\\n- {}\\n- {}\\n- tỉnh {}\\n- t.{}\\n- thành phố {}\\n- tp {}\".format(\n",
    "\tlist_provinces[0],\n",
    "\tlist_provinces[0],\n",
    "\tlist_provinces[0],\n",
    "\tlist_provinces[0],\n",
    "\tlist_provinces[0],\n",
    "\tlist_provinces[0],\n",
    "\tlist_provinces[0],\n",
    "\tlist_provinces[0])"
   ]
  },
  {
   "cell_type": "code",
   "execution_count": 26,
   "metadata": {},
   "outputs": [
    {
     "ename": "KeyError",
     "evalue": "'\"entity\"'",
     "output_type": "error",
     "traceback": [
      "\u001b[0;31m---------------------------------------------------------------------------\u001b[0m",
      "\u001b[0;31mKeyError\u001b[0m                                  Traceback (most recent call last)",
      "\u001b[0;32m<ipython-input-26-f43c2ec83cb7>\u001b[0m in \u001b[0;36m<module>\u001b[0;34m\u001b[0m\n\u001b[1;32m     40\u001b[0m \u001b[0mpname\u001b[0m\u001b[0;34m,\u001b[0m \u001b[0mpname_nospace_lowercase_uni\u001b[0m\u001b[0;34m,\u001b[0m \u001b[0mpname_nospace_lowercase_uni\u001b[0m\u001b[0;34m,\u001b[0m\u001b[0;34m\u001b[0m\u001b[0;34m\u001b[0m\u001b[0m\n\u001b[1;32m     41\u001b[0m \u001b[0mpname\u001b[0m\u001b[0;34m,\u001b[0m \u001b[0mpname_nospace_lowercase_uni\u001b[0m\u001b[0;34m,\u001b[0m \u001b[0mpname_nospace_lowercase_uni\u001b[0m\u001b[0;34m,\u001b[0m\u001b[0;34m\u001b[0m\u001b[0;34m\u001b[0m\u001b[0m\n\u001b[0;32m---> 42\u001b[0;31m pname, pname_nospace_lowercase_uni, pname_nospace_lowercase_uni)\n\u001b[0m",
      "\u001b[0;31mKeyError\u001b[0m: '\"entity\"'"
     ]
    }
   ],
   "source": [
    "import unidecode\n",
    "\n",
    "list_provinces = []\n",
    "list_intents = []\n",
    "list_synonyms = []\n",
    "\n",
    "with open('./vietnam_provinces.txt', 'r') as f:\n",
    "    for line in f:\n",
    "        list_provinces.append(line)\n",
    "\n",
    "pname = list_provinces[0]\n",
    "pname_nospace_lowercase_uni = unidecode.unidecode(pname.replace(' ', '').lower())\n",
    "pname_lowercase = unidecode.unidecode(pname.replace(' ', '').lower())\n",
    "\n",
    "# Add new item to list\n",
    "list_synonyms.append(pname_nospace_lowercase_uni + \"_s\\n\")\n",
    "list_intents.append(\"ask_\" + pname_nospace_lowercase_uni + \"_vn\")\n",
    "\n",
    "# Format string\n",
    "'''## intent:ask_{}_vn\\n- [{}]{\"entity\": \"{}_synonym\", \"value\": \"{}_s\"} có bao nhiêu [bệnh nhân]{\"entity\": \"patient_synonym\", \"value\": \"patient\"} [mắc]{\"entity\": \"getvirus_synonym\", \"value\": \"getvirus\"} rồi\\n- [{}]{\"entity\": \"{}_synonym\", \"value\": \"{}_s\"} có bao nhiêu [bệnh nhân]{\"entity\": \"patient_synonym\", \"value\": \"patient\"} [chết]{\"entity\": \"die_synonym\", \"value\": \"die\"} rồi\\n- [{}]{\"entity\": \"{}_synonym\", \"value\": \"{}_s\"} có bao nhiêu [bệnh nhân]{\"entity\": \"patient_synonym\", \"value\": \"patient\"} [khỏi]{\"entity\": \"resolved_synonym\", \"value\": \"resolved\"} bệnh rồi\\n- số [bệnh nhân]{\"entity\": \"patient_synonym\", \"value\": \"patient\"} [chết]{\"entity\": \"die_synonym\", \"value\": \"die\"} do [Covid-19](covid_synonym) ở [{}]{\"entity\": \"{}_synonym\", \"value\": \"{}_s\"}\\n- [Covid-19](covid_synonym) tại [{}]{\"entity\": \"{}_synonym\", \"value\": \"{}_s\"}\\n- số [bệnh nhân]{\"entity\": \"patient_synonym\", \"value\": \"patient\"} [khỏi]{\"entity\": \"resolved_synonym\", \"value\": \"resolved\"} [Covid-19](covid_synonym) ở [{}]{\"entity\": \"{}_synonym\", \"value\": \"{}_s\"}\\n- số [bệnh nhân]{\"entity\": \"patient_synonym\", \"value\": \"patient\"} mắc [Covid-19](covid_synonym) ở [{}]{\"entity\": \"{}_synonym\", \"value\": \"{}_s\"}\\n- [{}]{\"entity\": \"{}_synonym\", \"value\": \"{}_s\"} có số [bệnh nhân]{\"entity\": \"patient_synonym\", \"value\": \"patient\"} [chết]{\"entity\": \"die_synonym\", \"value\": \"die\"} do [Covid-19](covid_synonym)\\n- [{}]{\"entity\": \"{}_synonym\", \"value\": \"{}_s\"} có bao nhiêu [bệnh nhân]{\"entity\": \"patient_synonym\", \"value\": \"patient\"} [khỏi]{\"entity\": \"resolved_synonym\", \"value\": \"resolved\"} [Covid-19](covid_synonym)\\n- [{}]{\"entity\": \"{}_synonym\", \"value\": \"{}_s\"} có số [bệnh nhân]{\"entity\": \"patient_synonym\", \"value\": \"patient\"} [mắc]{\"entity\": \"getvirus_synonym\", \"value\": \"getvirus\"} [Covid-19](covid_synonym)\\n- tình hình [Covid-19](covid_synonym) ở [{}]{\"entity\": \"{}_synonym\", \"value\": \"{}_s\"}\\n- số liệu ở [{}]{\"entity\": \"{}_synonym\", \"value\": \"{}_s\"} [việt nam](vietnam_synonym)\\n- thông tin về số [bệnh nhân]{\"entity\": \"patient_synonym\", \"value\": \"patient\"} tại [{}]{\"entity\": \"{}_synonym\", \"value\": \"{}_s\"}\\n- có bao nhiêu [bệnh nhân]{\"entity\": \"patient_synonym\", \"value\": \"patient\"} mắc [Covid-19](covid_synonym)\\n- [Covid-19](covid_synonym) ở [{}]{\"entity\": \"{}_synonym\", \"value\": \"{}_s\"} thế nào\\n- số [bệnh nhân]{\"entity\": \"patient_synonym\", \"value\": \"patient\"} [chết]{\"entity\": \"die_synonym\", \"value\": \"die\"} và mắc [Covid-19](covid_synonym) ở [{}]{\"entity\": \"{}_synonym\", \"value\": \"{}_s\"}\\n- số [bệnh nhân]{\"entity\": \"patient_synonym\", \"value\": \"patient\"} [chết]{\"entity\": \"die_synonym\", \"value\": \"die\"} và [khỏi]{\"entity\": \"resolved_synonym\", \"value\": \"resolved\"} [Covid-19](covid_synonym) ở [{}]{\"entity\": \"{}_synonym\", \"value\": \"{}_s\"}\\n- số [bệnh nhân]{\"entity\": \"patient_synonym\", \"value\": \"patient\"} [khỏi]{\"entity\": \"resolved_synonym\", \"value\": \"resolved\"} và mắc ở [{}]{\"entity\": \"{}_synonym\", \"value\": \"{}_s\"}\\n- số [bệnh nhân]{\"entity\": \"patient_synonym\", \"value\": \"patient\"} bị bệnh [Covid-19](covid_synonym) ở [{}]{\"entity\": \"{}_synonym\", \"value\": \"{}_s\"}\\n- tình hình ở [{}]{\"entity\": \"{}_synonym\", \"value\": \"{}_s\"}\\n- [{}]{\"entity\": \"{}_synonym\", \"value\": \"{}_s\"} [việt nam](vietnam_synonym)\\n- tin tức [Covid-19](covid_synonym) ở [{}]{\"entity\": \"{}_synonym\", \"value\": \"{}_s\"}'''.format(pname_nospace_lowercase_uni,\n",
    "pname, pname_nospace_lowercase_uni, pname_nospace_lowercase_uni,\n",
    "pname, pname_nospace_lowercase_uni, pname_nospace_lowercase_uni,\n",
    "pname, pname_nospace_lowercase_uni, pname_nospace_lowercase_uni,\n",
    "pname, pname_nospace_lowercase_uni, pname_nospace_lowercase_uni,\n",
    "pname, pname_nospace_lowercase_uni, pname_nospace_lowercase_uni,\n",
    "pname, pname_nospace_lowercase_uni, pname_nospace_lowercase_uni,\n",
    "pname, pname_nospace_lowercase_uni, pname_nospace_lowercase_uni,\n",
    "pname, pname_nospace_lowercase_uni, pname_nospace_lowercase_uni,\n",
    "pname, pname_nospace_lowercase_uni, pname_nospace_lowercase_uni,\n",
    "pname, pname_nospace_lowercase_uni, pname_nospace_lowercase_uni,\n",
    "pname, pname_nospace_lowercase_uni, pname_nospace_lowercase_uni,\n",
    "pname, pname_nospace_lowercase_uni, pname_nospace_lowercase_uni,\n",
    "pname, pname_nospace_lowercase_uni, pname_nospace_lowercase_uni,\n",
    "pname, pname_nospace_lowercase_uni, pname_nospace_lowercase_uni,\n",
    "pname, pname_nospace_lowercase_uni, pname_nospace_lowercase_uni,\n",
    "pname, pname_nospace_lowercase_uni, pname_nospace_lowercase_uni,\n",
    "pname, pname_nospace_lowercase_uni, pname_nospace_lowercase_uni,\n",
    "pname, pname_nospace_lowercase_uni, pname_nospace_lowercase_uni,\n",
    "pname, pname_nospace_lowercase_uni, pname_nospace_lowercase_uni,\n",
    "pname, pname_nospace_lowercase_uni, pname_nospace_lowercase_uni,\n",
    "pname, pname_nospace_lowercase_uni, pname_nospace_lowercase_uni,\n",
    "pname, pname_nospace_lowercase_uni, pname_nospace_lowercase_uni)"
   ]
  },
  {
   "cell_type": "code",
   "execution_count": 6,
   "metadata": {},
   "outputs": [
    {
     "name": "stdout",
     "output_type": "stream",
     "text": [
      "<class 'str'>\n"
     ]
    }
   ],
   "source": [
    "import unidecode\n",
    "from datetime import date\n",
    "today = date.today()\n",
    "currentDate = today.strftime(\"%d/%m/%Y\")\n",
    "\n",
    "# For intent declaration\n",
    "list_intents = []\n",
    "# For synonyms declaration\n",
    "list_name_of_synonyms = []\n",
    "# For naming intents\n",
    "list_name_of_intents = []\n",
    "# List of entities\n",
    "list_name_entities = []\n",
    "list_synonyms = []\n",
    "\n",
    "list_name_of_provinces = []\n",
    "list_num_confirmed_cases = []\n",
    "list_num_being_treated_cases = []\n",
    "list_num_recovered_cases = []\n",
    "list_num_dead_cases = []\n",
    "\n",
    "\n",
    "list_utters_content = []\n",
    "list_utter_define = []\n",
    "\n",
    "pieces = []\n",
    "with open('/home/trdat/Workspaces/covid19-rasa-chatbot/data/lookups/vietnam_provinces.txt', 'r') as f:\n",
    "    for line in f:\n",
    "        pieces = line.split(';')\n",
    "#         print(name_of_province)\n",
    "#         print(num_confirmed_cases)\n",
    "        name_of_province = pieces[0]\n",
    "        num_confirmed_cases = pieces[1]\n",
    "        num_being_treated_cases = pieces[2]\n",
    "        num_recovered_cases = pieces[3]\n",
    "        num_dead_cases = pieces[4]\n",
    "\n",
    "        list_name_of_provinces.append(name_of_province)\n",
    "        list_num_confirmed_cases.append(num_confirmed_cases)\n",
    "        list_num_being_treated_cases.append(num_being_treated_cases)\n",
    "        list_num_recovered_cases.append(num_recovered_cases)\n",
    "        list_num_dead_cases.append(num_dead_cases)\n",
    "        \n",
    "print(type(list_num_confirmed_cases0)\n",
    "        "
   ]
  },
  {
   "cell_type": "code",
   "execution_count": null,
   "metadata": {},
   "outputs": [],
   "source": []
  }
 ],
 "metadata": {
  "kernelspec": {
   "display_name": "Python 3",
   "language": "python",
   "name": "python3"
  },
  "language_info": {
   "codemirror_mode": {
    "name": "ipython",
    "version": 3
   },
   "file_extension": ".py",
   "mimetype": "text/x-python",
   "name": "python",
   "nbconvert_exporter": "python",
   "pygments_lexer": "ipython3",
   "version": "3.7.9"
  }
 },
 "nbformat": 4,
 "nbformat_minor": 4
}
